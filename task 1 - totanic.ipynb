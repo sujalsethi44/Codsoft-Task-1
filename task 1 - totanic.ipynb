{
 "cells": [
  {
   "cell_type": "code",
   "execution_count": 1,
   "id": "cffd8936",
   "metadata": {
    "_cell_guid": "b1076dfc-b9ad-4769-8c92-a6c4dae69d19",
    "_uuid": "8f2839f25d086af736a60e9eeb907d3b93b6e0e5",
    "execution": {
     "iopub.execute_input": "2023-07-21T15:08:48.646442Z",
     "iopub.status.busy": "2023-07-21T15:08:48.645730Z",
     "iopub.status.idle": "2023-07-21T15:08:50.155240Z",
     "shell.execute_reply": "2023-07-21T15:08:50.154162Z"
    },
    "papermill": {
     "duration": 1.521092,
     "end_time": "2023-07-21T15:08:50.157924",
     "exception": false,
     "start_time": "2023-07-21T15:08:48.636832",
     "status": "completed"
    },
    "tags": []
   },
   "outputs": [
    {
     "name": "stderr",
     "output_type": "stream",
     "text": [
      "/opt/conda/lib/python3.10/site-packages/scipy/__init__.py:146: UserWarning: A NumPy version >=1.16.5 and <1.23.0 is required for this version of SciPy (detected version 1.23.5\n",
      "  warnings.warn(f\"A NumPy version >={np_minversion} and <{np_maxversion}\"\n"
     ]
    }
   ],
   "source": [
    "import pandas as pd\n",
    "import matplotlib.pyplot as plt\n",
    "import seaborn as sns"
   ]
  },
  {
   "cell_type": "code",
   "execution_count": 2,
   "id": "f94b24c7",
   "metadata": {
    "execution": {
     "iopub.execute_input": "2023-07-21T15:08:50.173736Z",
     "iopub.status.busy": "2023-07-21T15:08:50.173146Z",
     "iopub.status.idle": "2023-07-21T15:08:50.227217Z",
     "shell.execute_reply": "2023-07-21T15:08:50.226032Z"
    },
    "papermill": {
     "duration": 0.065003,
     "end_time": "2023-07-21T15:08:50.230004",
     "exception": false,
     "start_time": "2023-07-21T15:08:50.165001",
     "status": "completed"
    },
    "tags": []
   },
   "outputs": [
    {
     "data": {
      "text/html": [
       "<div>\n",
       "<style scoped>\n",
       "    .dataframe tbody tr th:only-of-type {\n",
       "        vertical-align: middle;\n",
       "    }\n",
       "\n",
       "    .dataframe tbody tr th {\n",
       "        vertical-align: top;\n",
       "    }\n",
       "\n",
       "    .dataframe thead th {\n",
       "        text-align: right;\n",
       "    }\n",
       "</style>\n",
       "<table border=\"1\" class=\"dataframe\">\n",
       "  <thead>\n",
       "    <tr style=\"text-align: right;\">\n",
       "      <th></th>\n",
       "      <th>PassengerId</th>\n",
       "      <th>Survived</th>\n",
       "      <th>Pclass</th>\n",
       "      <th>Name</th>\n",
       "      <th>Sex</th>\n",
       "      <th>Age</th>\n",
       "      <th>SibSp</th>\n",
       "      <th>Parch</th>\n",
       "      <th>Ticket</th>\n",
       "      <th>Fare</th>\n",
       "      <th>Cabin</th>\n",
       "      <th>Embarked</th>\n",
       "    </tr>\n",
       "  </thead>\n",
       "  <tbody>\n",
       "    <tr>\n",
       "      <th>0</th>\n",
       "      <td>892</td>\n",
       "      <td>0</td>\n",
       "      <td>3</td>\n",
       "      <td>Kelly, Mr. James</td>\n",
       "      <td>male</td>\n",
       "      <td>34.5</td>\n",
       "      <td>0</td>\n",
       "      <td>0</td>\n",
       "      <td>330911</td>\n",
       "      <td>7.8292</td>\n",
       "      <td>NaN</td>\n",
       "      <td>Q</td>\n",
       "    </tr>\n",
       "    <tr>\n",
       "      <th>1</th>\n",
       "      <td>893</td>\n",
       "      <td>1</td>\n",
       "      <td>3</td>\n",
       "      <td>Wilkes, Mrs. James (Ellen Needs)</td>\n",
       "      <td>female</td>\n",
       "      <td>47.0</td>\n",
       "      <td>1</td>\n",
       "      <td>0</td>\n",
       "      <td>363272</td>\n",
       "      <td>7.0000</td>\n",
       "      <td>NaN</td>\n",
       "      <td>S</td>\n",
       "    </tr>\n",
       "    <tr>\n",
       "      <th>2</th>\n",
       "      <td>894</td>\n",
       "      <td>0</td>\n",
       "      <td>2</td>\n",
       "      <td>Myles, Mr. Thomas Francis</td>\n",
       "      <td>male</td>\n",
       "      <td>62.0</td>\n",
       "      <td>0</td>\n",
       "      <td>0</td>\n",
       "      <td>240276</td>\n",
       "      <td>9.6875</td>\n",
       "      <td>NaN</td>\n",
       "      <td>Q</td>\n",
       "    </tr>\n",
       "    <tr>\n",
       "      <th>3</th>\n",
       "      <td>895</td>\n",
       "      <td>0</td>\n",
       "      <td>3</td>\n",
       "      <td>Wirz, Mr. Albert</td>\n",
       "      <td>male</td>\n",
       "      <td>27.0</td>\n",
       "      <td>0</td>\n",
       "      <td>0</td>\n",
       "      <td>315154</td>\n",
       "      <td>8.6625</td>\n",
       "      <td>NaN</td>\n",
       "      <td>S</td>\n",
       "    </tr>\n",
       "    <tr>\n",
       "      <th>4</th>\n",
       "      <td>896</td>\n",
       "      <td>1</td>\n",
       "      <td>3</td>\n",
       "      <td>Hirvonen, Mrs. Alexander (Helga E Lindqvist)</td>\n",
       "      <td>female</td>\n",
       "      <td>22.0</td>\n",
       "      <td>1</td>\n",
       "      <td>1</td>\n",
       "      <td>3101298</td>\n",
       "      <td>12.2875</td>\n",
       "      <td>NaN</td>\n",
       "      <td>S</td>\n",
       "    </tr>\n",
       "  </tbody>\n",
       "</table>\n",
       "</div>"
      ],
      "text/plain": [
       "   PassengerId  Survived  Pclass  \\\n",
       "0          892         0       3   \n",
       "1          893         1       3   \n",
       "2          894         0       2   \n",
       "3          895         0       3   \n",
       "4          896         1       3   \n",
       "\n",
       "                                           Name     Sex   Age  SibSp  Parch  \\\n",
       "0                              Kelly, Mr. James    male  34.5      0      0   \n",
       "1              Wilkes, Mrs. James (Ellen Needs)  female  47.0      1      0   \n",
       "2                     Myles, Mr. Thomas Francis    male  62.0      0      0   \n",
       "3                              Wirz, Mr. Albert    male  27.0      0      0   \n",
       "4  Hirvonen, Mrs. Alexander (Helga E Lindqvist)  female  22.0      1      1   \n",
       "\n",
       "    Ticket     Fare Cabin Embarked  \n",
       "0   330911   7.8292   NaN        Q  \n",
       "1   363272   7.0000   NaN        S  \n",
       "2   240276   9.6875   NaN        Q  \n",
       "3   315154   8.6625   NaN        S  \n",
       "4  3101298  12.2875   NaN        S  "
      ]
     },
     "execution_count": 2,
     "metadata": {},
     "output_type": "execute_result"
    }
   ],
   "source": [
    "df = pd.read_csv(\"/kaggle/input/test-file/tested.csv\")\n",
    "df.head()\n"
   ]
  },
  {
   "cell_type": "code",
   "execution_count": 3,
   "id": "1cefce5a",
   "metadata": {
    "execution": {
     "iopub.execute_input": "2023-07-21T15:08:50.246208Z",
     "iopub.status.busy": "2023-07-21T15:08:50.245791Z",
     "iopub.status.idle": "2023-07-21T15:08:50.258061Z",
     "shell.execute_reply": "2023-07-21T15:08:50.256880Z"
    },
    "papermill": {
     "duration": 0.02307,
     "end_time": "2023-07-21T15:08:50.260468",
     "exception": false,
     "start_time": "2023-07-21T15:08:50.237398",
     "status": "completed"
    },
    "tags": []
   },
   "outputs": [
    {
     "data": {
      "text/plain": [
       "PassengerId      0\n",
       "Survived         0\n",
       "Pclass           0\n",
       "Name             0\n",
       "Sex              0\n",
       "Age             86\n",
       "SibSp            0\n",
       "Parch            0\n",
       "Ticket           0\n",
       "Fare             1\n",
       "Cabin          327\n",
       "Embarked         0\n",
       "dtype: int64"
      ]
     },
     "execution_count": 3,
     "metadata": {},
     "output_type": "execute_result"
    }
   ],
   "source": [
    "df.isnull().sum()"
   ]
  },
  {
   "cell_type": "code",
   "execution_count": 4,
   "id": "a6736350",
   "metadata": {
    "execution": {
     "iopub.execute_input": "2023-07-21T15:08:50.276606Z",
     "iopub.status.busy": "2023-07-21T15:08:50.275924Z",
     "iopub.status.idle": "2023-07-21T15:08:50.281016Z",
     "shell.execute_reply": "2023-07-21T15:08:50.280055Z"
    },
    "papermill": {
     "duration": 0.015741,
     "end_time": "2023-07-21T15:08:50.283238",
     "exception": false,
     "start_time": "2023-07-21T15:08:50.267497",
     "status": "completed"
    },
    "tags": []
   },
   "outputs": [],
   "source": [
    "df.columns = df.columns.str.lower()"
   ]
  },
  {
   "cell_type": "markdown",
   "id": "26383720",
   "metadata": {
    "papermill": {
     "duration": 0.007824,
     "end_time": "2023-07-21T15:08:50.298491",
     "exception": false,
     "start_time": "2023-07-21T15:08:50.290667",
     "status": "completed"
    },
    "tags": []
   },
   "source": [
    "in the next i filled up NAN values of age with the mean each and cabin with linear interpolation and fare with the forward fill"
   ]
  },
  {
   "cell_type": "code",
   "execution_count": 5,
   "id": "4ff1a1ac",
   "metadata": {
    "execution": {
     "iopub.execute_input": "2023-07-21T15:08:50.314749Z",
     "iopub.status.busy": "2023-07-21T15:08:50.314028Z",
     "iopub.status.idle": "2023-07-21T15:08:50.328453Z",
     "shell.execute_reply": "2023-07-21T15:08:50.327205Z"
    },
    "papermill": {
     "duration": 0.025632,
     "end_time": "2023-07-21T15:08:50.331167",
     "exception": false,
     "start_time": "2023-07-21T15:08:50.305535",
     "status": "completed"
    },
    "tags": []
   },
   "outputs": [],
   "source": [
    "df['age'] = df['age'].fillna(df['age'].mean())\n",
    "df['cabin'] = df['cabin'].fillna(df['cabin'].mode()[0])\n",
    "df['fare'] = df['fare'].fillna(method ='ffill')"
   ]
  },
  {
   "cell_type": "code",
   "execution_count": 6,
   "id": "96b124ea",
   "metadata": {
    "execution": {
     "iopub.execute_input": "2023-07-21T15:08:50.347433Z",
     "iopub.status.busy": "2023-07-21T15:08:50.346655Z",
     "iopub.status.idle": "2023-07-21T15:08:50.356785Z",
     "shell.execute_reply": "2023-07-21T15:08:50.355793Z"
    },
    "papermill": {
     "duration": 0.020883,
     "end_time": "2023-07-21T15:08:50.359096",
     "exception": false,
     "start_time": "2023-07-21T15:08:50.338213",
     "status": "completed"
    },
    "tags": []
   },
   "outputs": [
    {
     "data": {
      "text/plain": [
       "passengerid    0\n",
       "survived       0\n",
       "pclass         0\n",
       "name           0\n",
       "sex            0\n",
       "age            0\n",
       "sibsp          0\n",
       "parch          0\n",
       "ticket         0\n",
       "fare           0\n",
       "cabin          0\n",
       "embarked       0\n",
       "dtype: int64"
      ]
     },
     "execution_count": 6,
     "metadata": {},
     "output_type": "execute_result"
    }
   ],
   "source": [
    "df.isnull().sum()"
   ]
  },
  {
   "cell_type": "code",
   "execution_count": 7,
   "id": "eaffd3ae",
   "metadata": {
    "execution": {
     "iopub.execute_input": "2023-07-21T15:08:50.375907Z",
     "iopub.status.busy": "2023-07-21T15:08:50.375109Z",
     "iopub.status.idle": "2023-07-21T15:08:50.416244Z",
     "shell.execute_reply": "2023-07-21T15:08:50.415375Z"
    },
    "papermill": {
     "duration": 0.052102,
     "end_time": "2023-07-21T15:08:50.418450",
     "exception": false,
     "start_time": "2023-07-21T15:08:50.366348",
     "status": "completed"
    },
    "tags": []
   },
   "outputs": [
    {
     "data": {
      "text/html": [
       "<div>\n",
       "<style scoped>\n",
       "    .dataframe tbody tr th:only-of-type {\n",
       "        vertical-align: middle;\n",
       "    }\n",
       "\n",
       "    .dataframe tbody tr th {\n",
       "        vertical-align: top;\n",
       "    }\n",
       "\n",
       "    .dataframe thead th {\n",
       "        text-align: right;\n",
       "    }\n",
       "</style>\n",
       "<table border=\"1\" class=\"dataframe\">\n",
       "  <thead>\n",
       "    <tr style=\"text-align: right;\">\n",
       "      <th></th>\n",
       "      <th>passengerid</th>\n",
       "      <th>survived</th>\n",
       "      <th>pclass</th>\n",
       "      <th>age</th>\n",
       "      <th>sibsp</th>\n",
       "      <th>parch</th>\n",
       "      <th>fare</th>\n",
       "      <th>name_Abbott, Master. Eugene Joseph</th>\n",
       "      <th>name_Abelseth, Miss. Karen Marie</th>\n",
       "      <th>name_Abelseth, Mr. Olaus Jorgensen</th>\n",
       "      <th>...</th>\n",
       "      <th>cabin_F E46</th>\n",
       "      <th>cabin_F E57</th>\n",
       "      <th>cabin_F G63</th>\n",
       "      <th>cabin_F2</th>\n",
       "      <th>cabin_F33</th>\n",
       "      <th>cabin_F4</th>\n",
       "      <th>cabin_G6</th>\n",
       "      <th>embarked_C</th>\n",
       "      <th>embarked_Q</th>\n",
       "      <th>embarked_S</th>\n",
       "    </tr>\n",
       "  </thead>\n",
       "  <tbody>\n",
       "    <tr>\n",
       "      <th>0</th>\n",
       "      <td>892</td>\n",
       "      <td>0</td>\n",
       "      <td>3</td>\n",
       "      <td>34.5</td>\n",
       "      <td>0</td>\n",
       "      <td>0</td>\n",
       "      <td>7.8292</td>\n",
       "      <td>0</td>\n",
       "      <td>0</td>\n",
       "      <td>0</td>\n",
       "      <td>...</td>\n",
       "      <td>0</td>\n",
       "      <td>0</td>\n",
       "      <td>0</td>\n",
       "      <td>0</td>\n",
       "      <td>0</td>\n",
       "      <td>0</td>\n",
       "      <td>0</td>\n",
       "      <td>0</td>\n",
       "      <td>1</td>\n",
       "      <td>0</td>\n",
       "    </tr>\n",
       "    <tr>\n",
       "      <th>1</th>\n",
       "      <td>893</td>\n",
       "      <td>1</td>\n",
       "      <td>3</td>\n",
       "      <td>47.0</td>\n",
       "      <td>1</td>\n",
       "      <td>0</td>\n",
       "      <td>7.0000</td>\n",
       "      <td>0</td>\n",
       "      <td>0</td>\n",
       "      <td>0</td>\n",
       "      <td>...</td>\n",
       "      <td>0</td>\n",
       "      <td>0</td>\n",
       "      <td>0</td>\n",
       "      <td>0</td>\n",
       "      <td>0</td>\n",
       "      <td>0</td>\n",
       "      <td>0</td>\n",
       "      <td>0</td>\n",
       "      <td>0</td>\n",
       "      <td>1</td>\n",
       "    </tr>\n",
       "    <tr>\n",
       "      <th>2</th>\n",
       "      <td>894</td>\n",
       "      <td>0</td>\n",
       "      <td>2</td>\n",
       "      <td>62.0</td>\n",
       "      <td>0</td>\n",
       "      <td>0</td>\n",
       "      <td>9.6875</td>\n",
       "      <td>0</td>\n",
       "      <td>0</td>\n",
       "      <td>0</td>\n",
       "      <td>...</td>\n",
       "      <td>0</td>\n",
       "      <td>0</td>\n",
       "      <td>0</td>\n",
       "      <td>0</td>\n",
       "      <td>0</td>\n",
       "      <td>0</td>\n",
       "      <td>0</td>\n",
       "      <td>0</td>\n",
       "      <td>1</td>\n",
       "      <td>0</td>\n",
       "    </tr>\n",
       "    <tr>\n",
       "      <th>3</th>\n",
       "      <td>895</td>\n",
       "      <td>0</td>\n",
       "      <td>3</td>\n",
       "      <td>27.0</td>\n",
       "      <td>0</td>\n",
       "      <td>0</td>\n",
       "      <td>8.6625</td>\n",
       "      <td>0</td>\n",
       "      <td>0</td>\n",
       "      <td>0</td>\n",
       "      <td>...</td>\n",
       "      <td>0</td>\n",
       "      <td>0</td>\n",
       "      <td>0</td>\n",
       "      <td>0</td>\n",
       "      <td>0</td>\n",
       "      <td>0</td>\n",
       "      <td>0</td>\n",
       "      <td>0</td>\n",
       "      <td>0</td>\n",
       "      <td>1</td>\n",
       "    </tr>\n",
       "    <tr>\n",
       "      <th>4</th>\n",
       "      <td>896</td>\n",
       "      <td>1</td>\n",
       "      <td>3</td>\n",
       "      <td>22.0</td>\n",
       "      <td>1</td>\n",
       "      <td>1</td>\n",
       "      <td>12.2875</td>\n",
       "      <td>0</td>\n",
       "      <td>0</td>\n",
       "      <td>0</td>\n",
       "      <td>...</td>\n",
       "      <td>0</td>\n",
       "      <td>0</td>\n",
       "      <td>0</td>\n",
       "      <td>0</td>\n",
       "      <td>0</td>\n",
       "      <td>0</td>\n",
       "      <td>0</td>\n",
       "      <td>0</td>\n",
       "      <td>0</td>\n",
       "      <td>1</td>\n",
       "    </tr>\n",
       "  </tbody>\n",
       "</table>\n",
       "<p>5 rows × 869 columns</p>\n",
       "</div>"
      ],
      "text/plain": [
       "   passengerid  survived  pclass   age  sibsp  parch     fare  \\\n",
       "0          892         0       3  34.5      0      0   7.8292   \n",
       "1          893         1       3  47.0      1      0   7.0000   \n",
       "2          894         0       2  62.0      0      0   9.6875   \n",
       "3          895         0       3  27.0      0      0   8.6625   \n",
       "4          896         1       3  22.0      1      1  12.2875   \n",
       "\n",
       "   name_Abbott, Master. Eugene Joseph  name_Abelseth, Miss. Karen Marie  \\\n",
       "0                                   0                                 0   \n",
       "1                                   0                                 0   \n",
       "2                                   0                                 0   \n",
       "3                                   0                                 0   \n",
       "4                                   0                                 0   \n",
       "\n",
       "   name_Abelseth, Mr. Olaus Jorgensen  ...  cabin_F E46  cabin_F E57  \\\n",
       "0                                   0  ...            0            0   \n",
       "1                                   0  ...            0            0   \n",
       "2                                   0  ...            0            0   \n",
       "3                                   0  ...            0            0   \n",
       "4                                   0  ...            0            0   \n",
       "\n",
       "   cabin_F G63  cabin_F2  cabin_F33  cabin_F4  cabin_G6  embarked_C  \\\n",
       "0            0         0          0         0         0           0   \n",
       "1            0         0          0         0         0           0   \n",
       "2            0         0          0         0         0           0   \n",
       "3            0         0          0         0         0           0   \n",
       "4            0         0          0         0         0           0   \n",
       "\n",
       "   embarked_Q  embarked_S  \n",
       "0           1           0  \n",
       "1           0           1  \n",
       "2           1           0  \n",
       "3           0           1  \n",
       "4           0           1  \n",
       "\n",
       "[5 rows x 869 columns]"
      ]
     },
     "execution_count": 7,
     "metadata": {},
     "output_type": "execute_result"
    }
   ],
   "source": [
    "#getting dummies from all categoriocal values\n",
    "for col in df.dtypes[df.dtypes == 'object'].index:\n",
    "    dummified = df.pop(col)\n",
    "    df= pd.concat([df, pd.get_dummies(dummified, prefix = col)], axis=1)\n",
    "df.head()"
   ]
  },
  {
   "cell_type": "markdown",
   "id": "e8654732",
   "metadata": {
    "papermill": {
     "duration": 0.007244,
     "end_time": "2023-07-21T15:08:50.433303",
     "exception": false,
     "start_time": "2023-07-21T15:08:50.426059",
     "status": "completed"
    },
    "tags": []
   },
   "source": [
    "**Feature Engineering**"
   ]
  },
  {
   "cell_type": "code",
   "execution_count": 8,
   "id": "3ec4eaa2",
   "metadata": {
    "execution": {
     "iopub.execute_input": "2023-07-21T15:08:50.452185Z",
     "iopub.status.busy": "2023-07-21T15:08:50.451142Z",
     "iopub.status.idle": "2023-07-21T15:08:50.456284Z",
     "shell.execute_reply": "2023-07-21T15:08:50.455422Z"
    },
    "papermill": {
     "duration": 0.016306,
     "end_time": "2023-07-21T15:08:50.458441",
     "exception": false,
     "start_time": "2023-07-21T15:08:50.442135",
     "status": "completed"
    },
    "tags": []
   },
   "outputs": [],
   "source": [
    "#Now we will start\n",
    "target = df['survived']"
   ]
  },
  {
   "cell_type": "code",
   "execution_count": 9,
   "id": "2cc65514",
   "metadata": {
    "execution": {
     "iopub.execute_input": "2023-07-21T15:08:50.476213Z",
     "iopub.status.busy": "2023-07-21T15:08:50.475065Z",
     "iopub.status.idle": "2023-07-21T15:08:50.761276Z",
     "shell.execute_reply": "2023-07-21T15:08:50.760039Z"
    },
    "papermill": {
     "duration": 0.298207,
     "end_time": "2023-07-21T15:08:50.764268",
     "exception": false,
     "start_time": "2023-07-21T15:08:50.466061",
     "status": "completed"
    },
    "tags": []
   },
   "outputs": [],
   "source": [
    "from sklearn.model_selection import train_test_split\n",
    "x_train, x_test, y_train, y_test = train_test_split(df,target, test_size = 0.25)"
   ]
  },
  {
   "cell_type": "code",
   "execution_count": 10,
   "id": "ae59ccf6",
   "metadata": {
    "execution": {
     "iopub.execute_input": "2023-07-21T15:08:50.782018Z",
     "iopub.status.busy": "2023-07-21T15:08:50.781562Z",
     "iopub.status.idle": "2023-07-21T15:08:51.504032Z",
     "shell.execute_reply": "2023-07-21T15:08:51.502790Z"
    },
    "papermill": {
     "duration": 0.734431,
     "end_time": "2023-07-21T15:08:51.506562",
     "exception": false,
     "start_time": "2023-07-21T15:08:50.772131",
     "status": "completed"
    },
    "tags": []
   },
   "outputs": [
    {
     "data": {
      "text/html": [
       "<style>#sk-container-id-1 {color: black;background-color: white;}#sk-container-id-1 pre{padding: 0;}#sk-container-id-1 div.sk-toggleable {background-color: white;}#sk-container-id-1 label.sk-toggleable__label {cursor: pointer;display: block;width: 100%;margin-bottom: 0;padding: 0.3em;box-sizing: border-box;text-align: center;}#sk-container-id-1 label.sk-toggleable__label-arrow:before {content: \"▸\";float: left;margin-right: 0.25em;color: #696969;}#sk-container-id-1 label.sk-toggleable__label-arrow:hover:before {color: black;}#sk-container-id-1 div.sk-estimator:hover label.sk-toggleable__label-arrow:before {color: black;}#sk-container-id-1 div.sk-toggleable__content {max-height: 0;max-width: 0;overflow: hidden;text-align: left;background-color: #f0f8ff;}#sk-container-id-1 div.sk-toggleable__content pre {margin: 0.2em;color: black;border-radius: 0.25em;background-color: #f0f8ff;}#sk-container-id-1 input.sk-toggleable__control:checked~div.sk-toggleable__content {max-height: 200px;max-width: 100%;overflow: auto;}#sk-container-id-1 input.sk-toggleable__control:checked~label.sk-toggleable__label-arrow:before {content: \"▾\";}#sk-container-id-1 div.sk-estimator input.sk-toggleable__control:checked~label.sk-toggleable__label {background-color: #d4ebff;}#sk-container-id-1 div.sk-label input.sk-toggleable__control:checked~label.sk-toggleable__label {background-color: #d4ebff;}#sk-container-id-1 input.sk-hidden--visually {border: 0;clip: rect(1px 1px 1px 1px);clip: rect(1px, 1px, 1px, 1px);height: 1px;margin: -1px;overflow: hidden;padding: 0;position: absolute;width: 1px;}#sk-container-id-1 div.sk-estimator {font-family: monospace;background-color: #f0f8ff;border: 1px dotted black;border-radius: 0.25em;box-sizing: border-box;margin-bottom: 0.5em;}#sk-container-id-1 div.sk-estimator:hover {background-color: #d4ebff;}#sk-container-id-1 div.sk-parallel-item::after {content: \"\";width: 100%;border-bottom: 1px solid gray;flex-grow: 1;}#sk-container-id-1 div.sk-label:hover label.sk-toggleable__label {background-color: #d4ebff;}#sk-container-id-1 div.sk-serial::before {content: \"\";position: absolute;border-left: 1px solid gray;box-sizing: border-box;top: 0;bottom: 0;left: 50%;z-index: 0;}#sk-container-id-1 div.sk-serial {display: flex;flex-direction: column;align-items: center;background-color: white;padding-right: 0.2em;padding-left: 0.2em;position: relative;}#sk-container-id-1 div.sk-item {position: relative;z-index: 1;}#sk-container-id-1 div.sk-parallel {display: flex;align-items: stretch;justify-content: center;background-color: white;position: relative;}#sk-container-id-1 div.sk-item::before, #sk-container-id-1 div.sk-parallel-item::before {content: \"\";position: absolute;border-left: 1px solid gray;box-sizing: border-box;top: 0;bottom: 0;left: 50%;z-index: -1;}#sk-container-id-1 div.sk-parallel-item {display: flex;flex-direction: column;z-index: 1;position: relative;background-color: white;}#sk-container-id-1 div.sk-parallel-item:first-child::after {align-self: flex-end;width: 50%;}#sk-container-id-1 div.sk-parallel-item:last-child::after {align-self: flex-start;width: 50%;}#sk-container-id-1 div.sk-parallel-item:only-child::after {width: 0;}#sk-container-id-1 div.sk-dashed-wrapped {border: 1px dashed gray;margin: 0 0.4em 0.5em 0.4em;box-sizing: border-box;padding-bottom: 0.4em;background-color: white;}#sk-container-id-1 div.sk-label label {font-family: monospace;font-weight: bold;display: inline-block;line-height: 1.2em;}#sk-container-id-1 div.sk-label-container {text-align: center;}#sk-container-id-1 div.sk-container {/* jupyter's `normalize.less` sets `[hidden] { display: none; }` but bootstrap.min.css set `[hidden] { display: none !important; }` so we also need the `!important` here to be able to override the default hidden behavior on the sphinx rendered scikit-learn.org. See: https://github.com/scikit-learn/scikit-learn/issues/21755 */display: inline-block !important;position: relative;}#sk-container-id-1 div.sk-text-repr-fallback {display: none;}</style><div id=\"sk-container-id-1\" class=\"sk-top-container\"><div class=\"sk-text-repr-fallback\"><pre>RandomForestClassifier()</pre><b>In a Jupyter environment, please rerun this cell to show the HTML representation or trust the notebook. <br />On GitHub, the HTML representation is unable to render, please try loading this page with nbviewer.org.</b></div><div class=\"sk-container\" hidden><div class=\"sk-item\"><div class=\"sk-estimator sk-toggleable\"><input class=\"sk-toggleable__control sk-hidden--visually\" id=\"sk-estimator-id-1\" type=\"checkbox\" checked><label for=\"sk-estimator-id-1\" class=\"sk-toggleable__label sk-toggleable__label-arrow\">RandomForestClassifier</label><div class=\"sk-toggleable__content\"><pre>RandomForestClassifier()</pre></div></div></div></div></div>"
      ],
      "text/plain": [
       "RandomForestClassifier()"
      ]
     },
     "execution_count": 10,
     "metadata": {},
     "output_type": "execute_result"
    }
   ],
   "source": [
    "from sklearn.ensemble import RandomForestClassifier\n",
    "rf = RandomForestClassifier()\n",
    "rf.fit(x_train, y_train)"
   ]
  },
  {
   "cell_type": "code",
   "execution_count": 11,
   "id": "a551a45d",
   "metadata": {
    "execution": {
     "iopub.execute_input": "2023-07-21T15:08:51.526604Z",
     "iopub.status.busy": "2023-07-21T15:08:51.526190Z",
     "iopub.status.idle": "2023-07-21T15:08:51.559051Z",
     "shell.execute_reply": "2023-07-21T15:08:51.557874Z"
    },
    "papermill": {
     "duration": 0.046688,
     "end_time": "2023-07-21T15:08:51.562110",
     "exception": false,
     "start_time": "2023-07-21T15:08:51.515422",
     "status": "completed"
    },
    "tags": []
   },
   "outputs": [],
   "source": [
    "y_pred = rf.predict(x_test)"
   ]
  },
  {
   "cell_type": "code",
   "execution_count": 12,
   "id": "b544f8f3",
   "metadata": {
    "execution": {
     "iopub.execute_input": "2023-07-21T15:08:51.581114Z",
     "iopub.status.busy": "2023-07-21T15:08:51.580701Z",
     "iopub.status.idle": "2023-07-21T15:08:51.591846Z",
     "shell.execute_reply": "2023-07-21T15:08:51.590950Z"
    },
    "papermill": {
     "duration": 0.02292,
     "end_time": "2023-07-21T15:08:51.594027",
     "exception": false,
     "start_time": "2023-07-21T15:08:51.571107",
     "status": "completed"
    },
    "tags": []
   },
   "outputs": [
    {
     "data": {
      "text/plain": [
       "1.0"
      ]
     },
     "execution_count": 12,
     "metadata": {},
     "output_type": "execute_result"
    }
   ],
   "source": [
    "#metrics of auc and roc_curve\n",
    "from sklearn.metrics import roc_curve, auc\n",
    "fpr, tpr, thresholds = roc_curve(y_test, y_pred)\n",
    "roc_auc = auc(fpr, tpr)\n",
    "roc_auc"
   ]
  },
  {
   "cell_type": "code",
   "execution_count": 13,
   "id": "0ac947e1",
   "metadata": {
    "execution": {
     "iopub.execute_input": "2023-07-21T15:08:51.612181Z",
     "iopub.status.busy": "2023-07-21T15:08:51.611801Z",
     "iopub.status.idle": "2023-07-21T15:08:52.452990Z",
     "shell.execute_reply": "2023-07-21T15:08:52.451687Z"
    },
    "papermill": {
     "duration": 0.853666,
     "end_time": "2023-07-21T15:08:52.456075",
     "exception": false,
     "start_time": "2023-07-21T15:08:51.602409",
     "status": "completed"
    },
    "tags": []
   },
   "outputs": [],
   "source": [
    "from sklearn.ensemble import RandomForestClassifier\n",
    "from sklearn.metrics import roc_curve, auc\n",
    "\n",
    "n_estimators = [1, 2, 4, 5, 6, 7, 45, 100]\n",
    "training_results = []\n",
    "testing_results = []\n",
    "\n",
    "for val in n_estimators:\n",
    "    #training\n",
    "    # Train the Random Forest classifier with 'val' number of estimators\n",
    "    rf = RandomForestClassifier(n_estimators=val, n_jobs=1)\n",
    "    rf.fit(x_train, y_train)\n",
    "    \n",
    "    # Predict on the training data\n",
    "    pred_train = rf.predict(x_train)\n",
    "    fpr_train, tpr_train, thresholds_train = roc_curve(y_train, pred_train)\n",
    "    \n",
    "    # Calculate the AUC for training data\n",
    "    roc_auc_train = auc(fpr_train, tpr_train)\n",
    "    \n",
    "    # Append the AUC for training data to the list\n",
    "    training_results.append(roc_auc_train)\n",
    "    \n",
    "    #testing\n",
    "    # Predict on the testing data\n",
    "    pred_test = rf.predict(x_test)\n",
    "    fpr_test, tpr_test, thresholds_test = roc_curve(y_test, pred_test)\n",
    "    \n",
    "    # Calculate the AUC for testing data\n",
    "    roc_auc_test = auc(fpr_test, tpr_test)\n",
    "    \n",
    "    # Append the AUC for testing data to the list\n",
    "    testing_results.append(roc_auc_test)\n"
   ]
  },
  {
   "cell_type": "code",
   "execution_count": 14,
   "id": "4625c6b8",
   "metadata": {
    "execution": {
     "iopub.execute_input": "2023-07-21T15:08:52.474438Z",
     "iopub.status.busy": "2023-07-21T15:08:52.474059Z",
     "iopub.status.idle": "2023-07-21T15:08:52.480126Z",
     "shell.execute_reply": "2023-07-21T15:08:52.478874Z"
    },
    "papermill": {
     "duration": 0.018688,
     "end_time": "2023-07-21T15:08:52.483053",
     "exception": false,
     "start_time": "2023-07-21T15:08:52.464365",
     "status": "completed"
    },
    "tags": []
   },
   "outputs": [
    {
     "name": "stdout",
     "output_type": "stream",
     "text": [
      "[1.0, 0.9233091787439615, 1.0, 1.0, 1.0, 1.0, 1.0, 1.0]\n",
      "\n",
      " Training Results are: [1.0, 0.9698275862068966, 1.0, 1.0, 1.0, 1.0, 1.0, 1.0]\n"
     ]
    }
   ],
   "source": [
    "print(testing_results)\n",
    "print(f'\\n Training Results are: {training_results}')"
   ]
  },
  {
   "cell_type": "code",
   "execution_count": 15,
   "id": "4b1de43f",
   "metadata": {
    "execution": {
     "iopub.execute_input": "2023-07-21T15:08:52.502270Z",
     "iopub.status.busy": "2023-07-21T15:08:52.501064Z",
     "iopub.status.idle": "2023-07-21T15:08:52.908918Z",
     "shell.execute_reply": "2023-07-21T15:08:52.907689Z"
    },
    "papermill": {
     "duration": 0.420868,
     "end_time": "2023-07-21T15:08:52.912343",
     "exception": false,
     "start_time": "2023-07-21T15:08:52.491475",
     "status": "completed"
    },
    "tags": []
   },
   "outputs": [
    {
     "data": {
      "image/png": "[encoded data removed]",
      "text/plain": [
       "<Figure size 640x480 with 1 Axes>"
      ]
     },
     "metadata": {},
     "output_type": "display_data"
    }
   ],
   "source": [
    "# Import necessary libraries\n",
    "import matplotlib.pyplot as plt\n",
    "from matplotlib.legend_handler import HandlerLine2D\n",
    "\n",
    "# Plotting\n",
    "line1, = plt.plot(n_estimators, training_results, 'y', label=\"Training AUC\")\n",
    "line2, = plt.plot(n_estimators, testing_results, 'r', label=\"Testing AUC\")\n",
    "plt.legend(handler_map={line1: HandlerLine2D(numpoints=2), line2: HandlerLine2D(numpoints=2)})\n",
    "plt.xlabel('Number of estimators')\n",
    "plt.ylabel('AUC score')\n",
    "plt.title('AUC Score vs. Number of Estimators')\n",
    "plt.show()\n"
   ]
  },
  {
   "cell_type": "markdown",
   "id": "6a0c73c5",
   "metadata": {
    "papermill": {
     "duration": 0.010442,
     "end_time": "2023-07-21T15:08:52.936438",
     "exception": false,
     "start_time": "2023-07-21T15:08:52.925996",
     "status": "completed"
    },
    "tags": []
   },
   "source": [
    "The above observation provides us that the **auc score of training data** gets better when the **number of trees are 2, 4 or 5** and then it represents a straight line. On the other hand, the **testing data's auc score** gets better when the **no. of trees** were **greater than 2 and less or equal to 5** and afterwards it is same as training."
   ]
  },
  {
   "cell_type": "code",
   "execution_count": null,
   "id": "f7e56680",
   "metadata": {
    "papermill": {
     "duration": 0.008618,
     "end_time": "2023-07-21T15:08:52.953968",
     "exception": false,
     "start_time": "2023-07-21T15:08:52.945350",
     "status": "completed"
    },
    "tags": []
   },
   "outputs": [],
   "source": []
  }
 ],
 "metadata": {
  "kernelspec": {
   "display_name": "Python 3",
   "language": "python",
   "name": "python3"
  },
  "language_info": {
   "codemirror_mode": {
    "name": "ipython",
    "version": 3
   },
   "file_extension": ".py",
   "mimetype": "text/x-python",
   "name": "python",
   "nbconvert_exporter": "python",
   "pygments_lexer": "ipython3",
   "version": "3.10.12"
  },
  "papermill": {
   "default_parameters": {},
   "duration": 16.613629,
   "end_time": "2023-07-21T15:08:53.985654",
   "environment_variables": {},
   "exception": null,
   "input_path": "__notebook__.ipynb",
   "output_path": "__notebook__.ipynb",
   "parameters": {},
   "start_time": "2023-07-21T15:08:37.372025",
   "version": "2.4.0"
  }
 },
 "nbformat": 4,
 "nbformat_minor": 5
}
